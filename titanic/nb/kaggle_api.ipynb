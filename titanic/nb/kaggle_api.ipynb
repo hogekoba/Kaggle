{
 "cells": [
  {
   "cell_type": "code",
   "execution_count": 3,
   "metadata": {},
   "outputs": [
    {
     "name": "stdout",
     "output_type": "stream",
     "text": [
      "https://www.kaggle.com/competitions/titanic\n",
      "https://www.kaggle.com/competitions/spaceship-titanic\n"
     ]
    }
   ],
   "source": [
    "from kaggle import api\n",
    "\n",
    "competitions = api.competitions_list(search='titanic')\n",
    "for competition in competitions:\n",
    "    print(competition.ref)"
   ]
  }
 ],
 "metadata": {
  "kernelspec": {
   "display_name": "base",
   "language": "python",
   "name": "python3"
  },
  "language_info": {
   "codemirror_mode": {
    "name": "ipython",
    "version": 3
   },
   "file_extension": ".py",
   "mimetype": "text/x-python",
   "name": "python",
   "nbconvert_exporter": "python",
   "pygments_lexer": "ipython3",
   "version": "3.8.5"
  }
 },
 "nbformat": 4,
 "nbformat_minor": 2
}
