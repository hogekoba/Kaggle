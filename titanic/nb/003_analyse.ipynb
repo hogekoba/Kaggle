{
 "cells": [
  {
   "cell_type": "markdown",
   "metadata": {},
   "source": [
    "# インポート"
   ]
  },
  {
   "cell_type": "code",
   "execution_count": 1,
   "metadata": {},
   "outputs": [],
   "source": [
    "\n",
    "import numpy as np\n",
    "import pandas as pd\n",
    "import os\n",
    "import pickle\n",
    "import gc \n",
    "\n",
    "# 分布確認\n",
    "import ydata_profiling as pdp\n",
    "\n",
    "# 可視化\n",
    "import matplotlib.pyplot as plt\n",
    "\n",
    "# 前処理\n",
    "from sklearn.preprocessing import StandardScaler, MinMaxScaler, LabelEncoder, OneHotEncoder\n",
    "\n",
    "# バリデーション\n",
    "from sklearn.model_selection import train_test_split, KFold, StratifiedKFold\n",
    "\n",
    "# 評価指標\n",
    "from sklearn.metrics import accuracy_score, roc_auc_score, confusion_matrix\n",
    "\n",
    "# モデリング: lightgbm\n",
    "import lightgbm as lgb\n",
    "\n",
    "import warnings\n",
    "warnings.filterwarnings(\"ignore\")\n",
    "\n",
    "import sys\n",
    "\n",
    "# matplotilbで日本語表示したい場合はこれをinstallしてインポートする\n",
    "import japanize_matplotlib\n",
    "\n",
    "from pathlib import Path\n",
    "\n",
    "# Path().resolve()\n",
    "# sys.path.append(os.path.join(Path().resolve(), '../source/'))\n",
    "\n",
    "import seaborn as sns # Samuel Norman Seabornからとっている\n"
   ]
  },
  {
   "cell_type": "markdown",
   "metadata": {},
   "source": [
    "## データ確認"
   ]
  },
  {
   "cell_type": "code",
   "execution_count": 2,
   "metadata": {},
   "outputs": [],
   "source": [
    "\n",
    "df_train = pd.read_csv(\"../data/input/train.csv\") # 学習データ\n",
    "df_test = pd.read_csv(\"../data/input/test.csv\")   # テストデータ"
   ]
  },
  {
   "cell_type": "code",
   "execution_count": 3,
   "metadata": {},
   "outputs": [
    {
     "name": "stdout",
     "output_type": "stream",
     "text": [
      "<class 'pandas.core.frame.DataFrame'>\n",
      "RangeIndex: 891 entries, 0 to 890\n",
      "Data columns (total 12 columns):\n",
      " #   Column       Non-Null Count  Dtype  \n",
      "---  ------       --------------  -----  \n",
      " 0   PassengerId  891 non-null    int64  \n",
      " 1   Survived     891 non-null    int64  \n",
      " 2   Pclass       891 non-null    int64  \n",
      " 3   Name         891 non-null    object \n",
      " 4   Sex          891 non-null    object \n",
      " 5   Age          714 non-null    float64\n",
      " 6   SibSp        891 non-null    int64  \n",
      " 7   Parch        891 non-null    int64  \n",
      " 8   Ticket       891 non-null    object \n",
      " 9   Fare         891 non-null    float64\n",
      " 10  Cabin        204 non-null    object \n",
      " 11  Embarked     889 non-null    object \n",
      "dtypes: float64(2), int64(5), object(5)\n",
      "memory usage: 83.7+ KB\n"
     ]
    }
   ],
   "source": [
    "df_train.info()"
   ]
  },
  {
   "cell_type": "markdown",
   "metadata": {},
   "source": [
    "* テストデータのAgeに欠損値が多い\n",
    "    * テストデータを補完するのはよいのかわからないが補間を試みる"
   ]
  },
  {
   "cell_type": "code",
   "execution_count": 4,
   "metadata": {},
   "outputs": [
    {
     "name": "stdout",
     "output_type": "stream",
     "text": [
      "<class 'pandas.core.frame.DataFrame'>\n",
      "RangeIndex: 418 entries, 0 to 417\n",
      "Data columns (total 11 columns):\n",
      " #   Column       Non-Null Count  Dtype  \n",
      "---  ------       --------------  -----  \n",
      " 0   PassengerId  418 non-null    int64  \n",
      " 1   Pclass       418 non-null    int64  \n",
      " 2   Name         418 non-null    object \n",
      " 3   Sex          418 non-null    object \n",
      " 4   Age          332 non-null    float64\n",
      " 5   SibSp        418 non-null    int64  \n",
      " 6   Parch        418 non-null    int64  \n",
      " 7   Ticket       418 non-null    object \n",
      " 8   Fare         417 non-null    float64\n",
      " 9   Cabin        91 non-null     object \n",
      " 10  Embarked     418 non-null    object \n",
      "dtypes: float64(2), int64(4), object(5)\n",
      "memory usage: 36.1+ KB\n"
     ]
    }
   ],
   "source": [
    "df_test.info()"
   ]
  },
  {
   "cell_type": "markdown",
   "metadata": {},
   "source": [
    "## Age\n",
    "\n",
    "欠損値があるので補完する。\n",
    "* 平均値で補完する場合"
   ]
  },
  {
   "cell_type": "code",
   "execution_count": 5,
   "metadata": {},
   "outputs": [
    {
     "data": {
      "text/html": [
       "<div>\n",
       "<style scoped>\n",
       "    .dataframe tbody tr th:only-of-type {\n",
       "        vertical-align: middle;\n",
       "    }\n",
       "\n",
       "    .dataframe tbody tr th {\n",
       "        vertical-align: top;\n",
       "    }\n",
       "\n",
       "    .dataframe thead th {\n",
       "        text-align: right;\n",
       "    }\n",
       "</style>\n",
       "<table border=\"1\" class=\"dataframe\">\n",
       "  <thead>\n",
       "    <tr style=\"text-align: right;\">\n",
       "      <th></th>\n",
       "      <th>Age</th>\n",
       "      <th>Age_fillna_mean</th>\n",
       "    </tr>\n",
       "  </thead>\n",
       "  <tbody>\n",
       "    <tr>\n",
       "      <th>5</th>\n",
       "      <td>NaN</td>\n",
       "      <td>29.699118</td>\n",
       "    </tr>\n",
       "    <tr>\n",
       "      <th>17</th>\n",
       "      <td>NaN</td>\n",
       "      <td>29.699118</td>\n",
       "    </tr>\n",
       "    <tr>\n",
       "      <th>19</th>\n",
       "      <td>NaN</td>\n",
       "      <td>29.699118</td>\n",
       "    </tr>\n",
       "    <tr>\n",
       "      <th>26</th>\n",
       "      <td>NaN</td>\n",
       "      <td>29.699118</td>\n",
       "    </tr>\n",
       "    <tr>\n",
       "      <th>28</th>\n",
       "      <td>NaN</td>\n",
       "      <td>29.699118</td>\n",
       "    </tr>\n",
       "  </tbody>\n",
       "</table>\n",
       "</div>"
      ],
      "text/plain": [
       "    Age  Age_fillna_mean\n",
       "5   NaN        29.699118\n",
       "17  NaN        29.699118\n",
       "19  NaN        29.699118\n",
       "26  NaN        29.699118\n",
       "28  NaN        29.699118"
      ]
     },
     "execution_count": 5,
     "metadata": {},
     "output_type": "execute_result"
    }
   ],
   "source": [
    "df_train[\"Age_fillna_mean\"] = df_train[\"Age\"].fillna(df_train[\"Age\"].mean())\n",
    "df_train.loc[df_train[\"Age\"].isnull(), [\"Age\", \"Age_fillna_mean\"]].head()"
   ]
  },
  {
   "cell_type": "markdown",
   "metadata": {},
   "source": [
    "* 持っているデータから推論する"
   ]
  },
  {
   "cell_type": "code",
   "execution_count": 6,
   "metadata": {},
   "outputs": [
    {
     "name": "stdout",
     "output_type": "stream",
     "text": [
      "0      False\n",
      "1      False\n",
      "2      False\n",
      "3      False\n",
      "4      False\n",
      "       ...  \n",
      "413     True\n",
      "414    False\n",
      "415    False\n",
      "416     True\n",
      "417     True\n",
      "Name: Age, Length: 418, dtype: bool\n"
     ]
    }
   ],
   "source": [
    "# ------------ Age ------------\n",
    "# Age を Pclass, Sex, Parch, SibSp からランダムフォレストで推定\n",
    "from sklearn.ensemble import RandomForestRegressor\n",
    "\n",
    "# 推定に使用する項目を指定\n",
    "df_all = pd.concat([df_train, df_test], ignore_index=True, sort=False)\n",
    "age_df = df_all[['Age', 'Pclass','Sex','Parch','SibSp']]\n",
    "\n",
    "# ラベル特徴量をワンホットエンコーディング\n",
    "age_df = pd.get_dummies(age_df)\n",
    "\n",
    "# 学習データとテストデータに分離し、numpyに変換\n",
    "known_age = age_df[age_df.Age.notnull()].values  \n",
    "unknown_age = age_df[age_df.Age.isnull()].values\n",
    "\n",
    "# 学習データをX, yに分離\n",
    "X = known_age[:, 1:]  \n",
    "y = known_age[:, 0]\n",
    "\n",
    "# ランダムフォレストで推定モデルを構築\n",
    "rfr = RandomForestRegressor(random_state=0, n_estimators=100, n_jobs=-1)\n",
    "rfr.fit(X, y)\n",
    "\n",
    "# 推定モデルを使って、テストデータのAgeを予測し、補完\n",
    "predictedAges = rfr.predict(unknown_age[:, 1::])\n",
    "print(df_test.Age.isnull())\n",
    "df_all.loc[(df_all.Age.isnull()), 'Age'] = predictedAges \n",
    "df_test = df_all[df_all['Survived'].isnull()].drop('Survived',axis=1)\n"
   ]
  },
  {
   "cell_type": "markdown",
   "metadata": {},
   "source": [
    "* 生存のピークは10再未満\n",
    "* 死亡のピークは20後半"
   ]
  },
  {
   "cell_type": "code",
   "execution_count": 7,
   "metadata": {},
   "outputs": [
    {
     "data": {
      "image/png": "[encoded data removed]",
      "text/plain": [
       "<Figure size 671.25x300 with 1 Axes>"
      ]
     },
     "metadata": {},
     "output_type": "display_data"
    }
   ],
   "source": [
    "\n",
    "# 年齢別生存曲線と死亡曲線\n",
    "facet = sns.FacetGrid(df_all[0:890], hue=\"Survived\",aspect=2)\n",
    "facet.map(sns.kdeplot,'Age',shade= True)\n",
    "facet.set(xlim=(0, df_train.loc[0:890,'Age'].max()))\n",
    "facet.add_legend()\n",
    "plt.show()"
   ]
  },
  {
   "cell_type": "markdown",
   "metadata": {},
   "source": [
    "# Name の特徴梁探索"
   ]
  },
  {
   "cell_type": "markdown",
   "metadata": {},
   "source": [
    "名前には敬称がある"
   ]
  },
  {
   "cell_type": "code",
   "execution_count": 13,
   "metadata": {},
   "outputs": [
    {
     "data": {
      "text/plain": [
       "0                                Braund, Mr. Owen Harris\n",
       "1      Cumings, Mrs. John Bradley (Florence Briggs Th...\n",
       "2                                 Heikkinen, Miss. Laina\n",
       "3           Futrelle, Mrs. Jacques Heath (Lily May Peel)\n",
       "4                               Allen, Mr. William Henry\n",
       "                             ...                        \n",
       "886                                Montvila, Rev. Juozas\n",
       "887                         Graham, Miss. Margaret Edith\n",
       "888             Johnston, Miss. Catherine Helen \"Carrie\"\n",
       "889                                Behr, Mr. Karl Howell\n",
       "890                                  Dooley, Mr. Patrick\n",
       "Name: Name, Length: 891, dtype: object"
      ]
     },
     "execution_count": 13,
     "metadata": {},
     "output_type": "execute_result"
    }
   ],
   "source": [
    "df_train[\"Name\"]"
   ]
  },
  {
   "cell_type": "code",
   "execution_count": null,
   "metadata": {},
   "outputs": [],
   "source": [
    "* 敬称ごとの生存率を見てみる\n",
    "  * \"Futrelle, Mrs. Jacques Heath (Lily May Peel)\"の分類\n",
    "    * , で分けた[1]番目\n",
    "    * . で分けた[0]番目\n",
    "  * それぞれの数を数える"
   ]
  },
  {
   "cell_type": "code",
   "execution_count": 33,
   "metadata": {},
   "outputs": [
    {
     "name": "stdout",
     "output_type": "stream",
     "text": [
      "Master:40\n",
      "Mr:517\n",
      "Dr:7\n",
      "Mme:1\n",
      "Mrs:125\n",
      "Mlle:2\n",
      "Capt:1\n",
      "Col:2\n",
      "Sir:1\n",
      "the Countess:1\n",
      "Ms:1\n",
      "Jonkheer:1\n",
      "Don:1\n",
      "Lady:1\n",
      "Miss:182\n",
      "Rev:6\n",
      "Major:2\n"
     ]
    }
   ],
   "source": [
    "# 敬称の数を数える\n",
    "title_list = df_train['Name'].map(lambda x: x.split(', ')[1].split('. ')[0]).to_list()\n",
    "\n",
    "for title in set(title_list):\n",
    "    count = title_list.count(title)\n",
    "    print(str(title) + \":\" + str(count))\n"
   ]
  },
  {
   "cell_type": "markdown",
   "metadata": {},
   "source": [
    "* 少数のものをまとめる\n",
    "* 同意のものをまとめる\n"
   ]
  },
  {
   "cell_type": "code",
   "execution_count": 34,
   "metadata": {},
   "outputs": [
    {
     "data": {
      "text/plain": [
       "<Axes: xlabel='Title', ylabel='Survived'>"
      ]
     },
     "execution_count": 34,
     "metadata": {},
     "output_type": "execute_result"
    },
    {
     "data": {
      "image/png": "[encoded data removed]",
      "text/plain": [
       "<Figure size 640x480 with 1 Axes>"
      ]
     },
     "metadata": {},
     "output_type": "display_data"
    }
   ],
   "source": [
    "# 敬称の分析\n",
    "df_train['Title'] = df_train['Name'].map(lambda x: x.split(', ')[1].split('. ')[0])\n",
    "# 同意のものをまとめる\n",
    "df_train['Title'].replace(['Capt', 'Col', 'Major', 'Dr', 'Rev'], 'Officer', inplace=True)\n",
    "df_train['Title'].replace(['Don', 'Sir',  'the Countess', 'Lady', 'Dona'], 'Royalty', inplace=True)\n",
    "df_train['Title'].replace(['Mme', 'Ms'], 'Mrs', inplace=True)\n",
    "df_train['Title'].replace(['Mlle'], 'Miss', inplace=True)\n",
    "df_train['Title'].replace(['Jonkheer'], 'Master', inplace=True)\n",
    "# データ表示\n",
    "sns.barplot(x='Title', y='Survived', data=df_train, palette='Set3')"
   ]
  },
  {
   "cell_type": "markdown",
   "metadata": {},
   "source": [
    "* 同じ苗字の人をまとめる"
   ]
  },
  {
   "cell_type": "code",
   "execution_count": 36,
   "metadata": {},
   "outputs": [],
   "source": [
    "# ------------ Surname ------------\n",
    "# NameからSurname(苗字)を抽出\n",
    "df_train['Surname'] = df_train['Name'].map(lambda name:name.split(',')[0].strip())\n",
    "\n",
    "# 同じSurname(苗字)の出現頻度をカウント(出現回数が2以上なら家族)\n",
    "df_train['FamilyGroup'] = df_train['Surname'].map(df_train['Surname'].value_counts()) "
   ]
  },
  {
   "cell_type": "markdown",
   "metadata": {},
   "source": [
    "* さらに女子供と男のグループに分ける"
   ]
  },
  {
   "cell_type": "code",
   "execution_count": 37,
   "metadata": {},
   "outputs": [
    {
     "name": "stdout",
     "output_type": "stream",
     "text": [
      "Survived\n",
      "1.000000    77\n",
      "0.000000    27\n",
      "0.750000     2\n",
      "0.500000     1\n",
      "0.333333     1\n",
      "0.142857     1\n",
      "Name: count, dtype: int64\n"
     ]
    }
   ],
   "source": [
    "# 家族で16才以下または女性の生存率\n",
    "Female_Child_Group = df_train.loc[(df_train['FamilyGroup']>=2) & ((df_train['Age']<=16) | (df_train['Sex']=='female'))]\n",
    "Female_Child_Group = Female_Child_Group.groupby('Surname')['Survived'].mean()\n",
    "print(Female_Child_Group.value_counts())"
   ]
  },
  {
   "cell_type": "code",
   "execution_count": 40,
   "metadata": {},
   "outputs": [
    {
     "name": "stdout",
     "output_type": "stream",
     "text": [
      "Survived\n",
      "0.000000    70\n",
      "1.000000    14\n",
      "0.500000     4\n",
      "0.333333     1\n",
      "Name: count, dtype: int64\n"
     ]
    }
   ],
   "source": [
    "# 家族で16才超えかつ男性の生存率\n",
    "Male_Adult_Group=df_train.loc[(df_train['FamilyGroup']>=2) & (df_train['Age']>16) & (df_train['Sex']=='male')]\n",
    "Male_Adult_List=Male_Adult_Group.groupby('Surname')['Survived'].mean()\n",
    "print(Male_Adult_List.value_counts())"
   ]
  },
  {
   "cell_type": "markdown",
   "metadata": {},
   "source": [
    "* 生存率１００と０の極端なグループ分けができた"
   ]
  },
  {
   "cell_type": "code",
   "execution_count": 42,
   "metadata": {},
   "outputs": [
    {
     "name": "stdout",
     "output_type": "stream",
     "text": [
      "Dead_list =  {'Rice', 'Lefebre', 'Ford', 'Olsson', 'Arnold-Franchi', 'Sage', 'Danbom', 'Goodwin', 'Johnston', 'Barbara', 'Zabour', 'Elias', 'Jussila', 'Rosblom', 'Skoog', 'Cacic', 'Attalah', 'Oreskovic', 'Boulos', 'Van Impe', 'Lobb', 'Turpin', 'Vander Planke', 'Strom', 'Bourke', 'Panula', 'Palsson'}\n",
      "Survived_list =  {'Dick', 'Beane', 'Taylor', 'Frauenthal', 'Flynn', 'Bishop', 'Goldenberg', 'Jussila', 'Nakid', 'Beckwith', 'Hoyt', 'Duff Gordon', 'Chambers', 'Daly'}\n"
     ]
    }
   ],
   "source": [
    "# デッドリストとサバイブリストの作成\n",
    "Dead_list = set(Female_Child_Group[Female_Child_Group.apply(lambda x:x==0)].index)\n",
    "Survived_list = set(Male_Adult_List[Male_Adult_List.apply(lambda x:x==1)].index)\n",
    "\n",
    "# デッドリストとサバイブリストの表示\n",
    "print('Dead_list = ', Dead_list)\n",
    "print('Survived_list = ', Survived_list)\n",
    "\n",
    "# デッドリストとサバイブリストをSex, Age, Title に反映させる\n",
    "df_train.loc[(df_train['Survived'].isnull()) & (df_train['Surname'].apply(lambda x:x in Dead_list)),\\\n",
    "             ['Sex','Age','Title']] = ['male',28.0,'Mr']\n",
    "df_train.loc[(df_train['Survived'].isnull()) & (df_train['Surname'].apply(lambda x:x in Survived_list)),\\\n",
    "             ['Sex','Age','Title']] = ['female',5.0,'Mrs']"
   ]
  },
  {
   "cell_type": "markdown",
   "metadata": {},
   "source": [
    "# データセットの作成"
   ]
  },
  {
   "cell_type": "markdown",
   "metadata": {},
   "source": [
    "* 性別は数値でないためOneHotVectorで数値化する"
   ]
  },
  {
   "cell_type": "code",
   "execution_count": 8,
   "metadata": {},
   "outputs": [],
   "source": [
    "# 性別をベクトル化\n",
    "df_one = pd.get_dummies(df_train[[\"Sex\"]], dummy_na=False, drop_first=False)\n",
    "df_one = df_one.astype(np.int64)\n",
    "\n",
    "df_sex_test = pd.get_dummies(df_test[[\"Sex\"]], dummy_na=False, drop_first=False)\n",
    "df_sex_test = df_sex_test.astype(np.int64)\n"
   ]
  },
  {
   "cell_type": "code",
   "execution_count": 9,
   "metadata": {},
   "outputs": [],
   "source": [
    "# データセット作成\n",
    "x_train = pd.concat([df_one, df_train[[\"Pclass\", \"Fare\"]]], axis=1)\n",
    "y_train = df_train[[\"Survived\"]]\n",
    "id_train = df_train[[\"PassengerId\"]]\n",
    "\n",
    "x_test = pd.concat([df_sex_test, df_test[[\"Pclass\", \"Fare\"]]], axis=1)"
   ]
  },
  {
   "cell_type": "markdown",
   "metadata": {},
   "source": [
    "# 検証の方針"
   ]
  },
  {
   "cell_type": "markdown",
   "metadata": {},
   "source": [
    "## 検証データ\n",
    "* 交差検証を用いる"
   ]
  },
  {
   "cell_type": "markdown",
   "metadata": {},
   "source": [
    "\n",
    "## モデル\n",
    "* LightGBMを用いる"
   ]
  },
  {
   "cell_type": "markdown",
   "metadata": {},
   "source": [
    "# ベースラインの作成"
   ]
  },
  {
   "cell_type": "markdown",
   "metadata": {},
   "source": [
    "## ハイパーパラメータの探索"
   ]
  },
  {
   "cell_type": "markdown",
   "metadata": {},
   "source": [
    "### モデルの学習"
   ]
  },
  {
   "cell_type": "markdown",
   "metadata": {},
   "source": []
  },
  {
   "cell_type": "markdown",
   "metadata": {},
   "source": [
    "### 重要度の評価"
   ]
  },
  {
   "cell_type": "markdown",
   "metadata": {},
   "source": [
    "# モデル推論"
   ]
  }
 ],
 "metadata": {
  "kernelspec": {
   "display_name": "base",
   "language": "python",
   "name": "python3"
  },
  "language_info": {
   "codemirror_mode": {
    "name": "ipython",
    "version": 3
   },
   "file_extension": ".py",
   "mimetype": "text/x-python",
   "name": "python",
   "nbconvert_exporter": "python",
   "pygments_lexer": "ipython3",
   "version": "3.11.5"
  }
 },
 "nbformat": 4,
 "nbformat_minor": 2
}
