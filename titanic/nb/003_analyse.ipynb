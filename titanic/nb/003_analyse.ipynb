{
 "cells": [
  {
   "cell_type": "markdown",
   "metadata": {},
   "source": [
    "# インポート"
   ]
  },
  {
   "cell_type": "code",
   "execution_count": 1,
   "metadata": {},
   "outputs": [],
   "source": [
    "\n",
    "import numpy as np\n",
    "import pandas as pd\n",
    "import os\n",
    "import pickle\n",
    "import gc \n",
    "\n",
    "# 分布確認\n",
    "import ydata_profiling as pdp\n",
    "\n",
    "# 可視化\n",
    "import matplotlib.pyplot as plt\n",
    "\n",
    "# 前処理\n",
    "from sklearn.preprocessing import StandardScaler, MinMaxScaler, LabelEncoder, OneHotEncoder\n",
    "\n",
    "# バリデーション\n",
    "from sklearn.model_selection import train_test_split, KFold, StratifiedKFold\n",
    "\n",
    "# 評価指標\n",
    "from sklearn.metrics import accuracy_score, roc_auc_score, confusion_matrix\n",
    "\n",
    "# モデリング: lightgbm\n",
    "import lightgbm as lgb\n",
    "\n",
    "import warnings\n",
    "warnings.filterwarnings(\"ignore\")\n",
    "\n",
    "import sys\n",
    "\n",
    "# matplotilbで日本語表示したい場合はこれをinstallしてインポートする\n",
    "import japanize_matplotlib\n",
    "\n",
    "from pathlib import Path\n",
    "\n",
    "# Path().resolve()\n",
    "# sys.path.append(os.path.join(Path().resolve(), '../source/'))\n",
    "\n",
    "import seaborn as sns # Samuel Norman Seabornからとっている\n"
   ]
  },
  {
   "cell_type": "markdown",
   "metadata": {},
   "source": [
    "## データ確認"
   ]
  },
  {
   "cell_type": "code",
   "execution_count": 2,
   "metadata": {},
   "outputs": [],
   "source": [
    "\n",
    "df_train = pd.read_csv(\"../data/input/train.csv\") # 学習データ\n",
    "df_test = pd.read_csv(\"../data/input/test.csv\")   # テストデータ"
   ]
  },
  {
   "cell_type": "code",
   "execution_count": 3,
   "metadata": {},
   "outputs": [
    {
     "name": "stdout",
     "output_type": "stream",
     "text": [
      "<class 'pandas.core.frame.DataFrame'>\n",
      "RangeIndex: 891 entries, 0 to 890\n",
      "Data columns (total 12 columns):\n",
      " #   Column       Non-Null Count  Dtype  \n",
      "---  ------       --------------  -----  \n",
      " 0   PassengerId  891 non-null    int64  \n",
      " 1   Survived     891 non-null    int64  \n",
      " 2   Pclass       891 non-null    int64  \n",
      " 3   Name         891 non-null    object \n",
      " 4   Sex          891 non-null    object \n",
      " 5   Age          714 non-null    float64\n",
      " 6   SibSp        891 non-null    int64  \n",
      " 7   Parch        891 non-null    int64  \n",
      " 8   Ticket       891 non-null    object \n",
      " 9   Fare         891 non-null    float64\n",
      " 10  Cabin        204 non-null    object \n",
      " 11  Embarked     889 non-null    object \n",
      "dtypes: float64(2), int64(5), object(5)\n",
      "memory usage: 83.7+ KB\n"
     ]
    }
   ],
   "source": [
    "df_train.info()"
   ]
  },
  {
   "cell_type": "markdown",
   "metadata": {},
   "source": [
    "* テストデータのAgeに欠損値が多い\n",
    "    * テストデータを補完するのはよいのかわからないが補間を試みる"
   ]
  },
  {
   "cell_type": "code",
   "execution_count": 4,
   "metadata": {},
   "outputs": [
    {
     "name": "stdout",
     "output_type": "stream",
     "text": [
      "<class 'pandas.core.frame.DataFrame'>\n",
      "RangeIndex: 418 entries, 0 to 417\n",
      "Data columns (total 11 columns):\n",
      " #   Column       Non-Null Count  Dtype  \n",
      "---  ------       --------------  -----  \n",
      " 0   PassengerId  418 non-null    int64  \n",
      " 1   Pclass       418 non-null    int64  \n",
      " 2   Name         418 non-null    object \n",
      " 3   Sex          418 non-null    object \n",
      " 4   Age          332 non-null    float64\n",
      " 5   SibSp        418 non-null    int64  \n",
      " 6   Parch        418 non-null    int64  \n",
      " 7   Ticket       418 non-null    object \n",
      " 8   Fare         417 non-null    float64\n",
      " 9   Cabin        91 non-null     object \n",
      " 10  Embarked     418 non-null    object \n",
      "dtypes: float64(2), int64(4), object(5)\n",
      "memory usage: 36.1+ KB\n"
     ]
    }
   ],
   "source": [
    "df_test.info()"
   ]
  },
  {
   "cell_type": "markdown",
   "metadata": {},
   "source": [
    "## Age\n",
    "\n",
    "欠損値があるので補完する。\n",
    "* 平均値で補完する場合"
   ]
  },
  {
   "cell_type": "code",
   "execution_count": 5,
   "metadata": {},
   "outputs": [
    {
     "data": {
      "text/html": [
       "<div>\n",
       "<style scoped>\n",
       "    .dataframe tbody tr th:only-of-type {\n",
       "        vertical-align: middle;\n",
       "    }\n",
       "\n",
       "    .dataframe tbody tr th {\n",
       "        vertical-align: top;\n",
       "    }\n",
       "\n",
       "    .dataframe thead th {\n",
       "        text-align: right;\n",
       "    }\n",
       "</style>\n",
       "<table border=\"1\" class=\"dataframe\">\n",
       "  <thead>\n",
       "    <tr style=\"text-align: right;\">\n",
       "      <th></th>\n",
       "      <th>Age</th>\n",
       "      <th>Age_fillna_mean</th>\n",
       "    </tr>\n",
       "  </thead>\n",
       "  <tbody>\n",
       "    <tr>\n",
       "      <th>5</th>\n",
       "      <td>NaN</td>\n",
       "      <td>29.699118</td>\n",
       "    </tr>\n",
       "    <tr>\n",
       "      <th>17</th>\n",
       "      <td>NaN</td>\n",
       "      <td>29.699118</td>\n",
       "    </tr>\n",
       "    <tr>\n",
       "      <th>19</th>\n",
       "      <td>NaN</td>\n",
       "      <td>29.699118</td>\n",
       "    </tr>\n",
       "    <tr>\n",
       "      <th>26</th>\n",
       "      <td>NaN</td>\n",
       "      <td>29.699118</td>\n",
       "    </tr>\n",
       "    <tr>\n",
       "      <th>28</th>\n",
       "      <td>NaN</td>\n",
       "      <td>29.699118</td>\n",
       "    </tr>\n",
       "  </tbody>\n",
       "</table>\n",
       "</div>"
      ],
      "text/plain": [
       "    Age  Age_fillna_mean\n",
       "5   NaN        29.699118\n",
       "17  NaN        29.699118\n",
       "19  NaN        29.699118\n",
       "26  NaN        29.699118\n",
       "28  NaN        29.699118"
      ]
     },
     "execution_count": 5,
     "metadata": {},
     "output_type": "execute_result"
    }
   ],
   "source": [
    "df_train[\"Age_fillna_mean\"] = df_train[\"Age\"].fillna(df_train[\"Age\"].mean())\n",
    "df_train.loc[df_train[\"Age\"].isnull(), [\"Age\", \"Age_fillna_mean\"]].head()"
   ]
  },
  {
   "cell_type": "markdown",
   "metadata": {},
   "source": [
    "* 持っているデータから推論する"
   ]
  },
  {
   "cell_type": "code",
   "execution_count": 6,
   "metadata": {},
   "outputs": [
    {
     "name": "stdout",
     "output_type": "stream",
     "text": [
      "0      False\n",
      "1      False\n",
      "2      False\n",
      "3      False\n",
      "4      False\n",
      "       ...  \n",
      "413     True\n",
      "414    False\n",
      "415    False\n",
      "416     True\n",
      "417     True\n",
      "Name: Age, Length: 418, dtype: bool\n"
     ]
    }
   ],
   "source": [
    "# ------------ Age ------------\n",
    "# Age を Pclass, Sex, Parch, SibSp からランダムフォレストで推定\n",
    "from sklearn.ensemble import RandomForestRegressor\n",
    "\n",
    "# 推定に使用する項目を指定\n",
    "df_all = pd.concat([df_train, df_test], ignore_index=True, sort=False)\n",
    "age_df = df_all[['Age', 'Pclass','Sex','Parch','SibSp']]\n",
    "\n",
    "# ラベル特徴量をワンホットエンコーディング\n",
    "age_df = pd.get_dummies(age_df)\n",
    "\n",
    "# 学習データとテストデータに分離し、numpyに変換\n",
    "known_age = age_df[age_df.Age.notnull()].values  \n",
    "unknown_age = age_df[age_df.Age.isnull()].values\n",
    "\n",
    "# 学習データをX, yに分離\n",
    "X = known_age[:, 1:]  \n",
    "y = known_age[:, 0]\n",
    "\n",
    "# ランダムフォレストで推定モデルを構築\n",
    "rfr = RandomForestRegressor(random_state=0, n_estimators=100, n_jobs=-1)\n",
    "rfr.fit(X, y)\n",
    "\n",
    "# 推定モデルを使って、テストデータのAgeを予測し、補完\n",
    "predictedAges = rfr.predict(unknown_age[:, 1::])\n",
    "print(df_test.Age.isnull())\n",
    "df_all.loc[(df_all.Age.isnull()), 'Age'] = predictedAges \n",
    "df_test = df_all[df_all['Survived'].isnull()].drop('Survived',axis=1)\n"
   ]
  },
  {
   "cell_type": "markdown",
   "metadata": {},
   "source": [
    "* 生存のピークは10再未満\n",
    "* 死亡のピークは20後半"
   ]
  },
  {
   "cell_type": "code",
   "execution_count": 7,
   "metadata": {},
   "outputs": [
    {
     "data": {
      "image/png": "[encoded data removed]",
      "text/plain": [
       "<Figure size 671.25x300 with 1 Axes>"
      ]
     },
     "metadata": {},
     "output_type": "display_data"
    }
   ],
   "source": [
    "\n",
    "# 年齢別生存曲線と死亡曲線\n",
    "facet = sns.FacetGrid(df_all[0:890], hue=\"Survived\",aspect=2)\n",
    "facet.map(sns.kdeplot,'Age',shade= True)\n",
    "facet.set(xlim=(0, df_train.loc[0:890,'Age'].max()))\n",
    "facet.add_legend()\n",
    "plt.show()"
   ]
  },
  {
   "cell_type": "markdown",
   "metadata": {},
   "source": [
    "# Name の特徴梁探索"
   ]
  },
  {
   "cell_type": "markdown",
   "metadata": {},
   "source": [
    "名前には敬称がある"
   ]
  },
  {
   "cell_type": "code",
   "execution_count": 8,
   "metadata": {},
   "outputs": [
    {
     "data": {
      "text/plain": [
       "0                                Braund, Mr. Owen Harris\n",
       "1      Cumings, Mrs. John Bradley (Florence Briggs Th...\n",
       "2                                 Heikkinen, Miss. Laina\n",
       "3           Futrelle, Mrs. Jacques Heath (Lily May Peel)\n",
       "4                               Allen, Mr. William Henry\n",
       "                             ...                        \n",
       "886                                Montvila, Rev. Juozas\n",
       "887                         Graham, Miss. Margaret Edith\n",
       "888             Johnston, Miss. Catherine Helen \"Carrie\"\n",
       "889                                Behr, Mr. Karl Howell\n",
       "890                                  Dooley, Mr. Patrick\n",
       "Name: Name, Length: 891, dtype: object"
      ]
     },
     "execution_count": 8,
     "metadata": {},
     "output_type": "execute_result"
    }
   ],
   "source": [
    "df_train[\"Name\"]"
   ]
  },
  {
   "cell_type": "code",
   "execution_count": 9,
   "metadata": {},
   "outputs": [
    {
     "ename": "IndentationError",
     "evalue": "unexpected indent (2380117428.py, line 2)",
     "output_type": "error",
     "traceback": [
      "\u001b[1;36m  Cell \u001b[1;32mIn[9], line 2\u001b[1;36m\u001b[0m\n\u001b[1;33m    * \"Futrelle, Mrs. Jacques Heath (Lily May Peel)\"の分類\u001b[0m\n\u001b[1;37m    ^\u001b[0m\n\u001b[1;31mIndentationError\u001b[0m\u001b[1;31m:\u001b[0m unexpected indent\n"
     ]
    }
   ],
   "source": [
    "* 敬称ごとの生存率を見てみる\n",
    "  * \"Futrelle, Mrs. Jacques Heath (Lily May Peel)\"の分類\n",
    "    * , で分けた[1]番目\n",
    "    * . で分けた[0]番目\n",
    "  * それぞれの数を数える"
   ]
  },
  {
   "cell_type": "code",
   "execution_count": null,
   "metadata": {},
   "outputs": [
    {
     "name": "stdout",
     "output_type": "stream",
     "text": [
      "Master:40\n",
      "Mr:517\n",
      "Dr:7\n",
      "Mme:1\n",
      "Mrs:125\n",
      "Mlle:2\n",
      "Capt:1\n",
      "Col:2\n",
      "Sir:1\n",
      "the Countess:1\n",
      "Ms:1\n",
      "Jonkheer:1\n",
      "Don:1\n",
      "Lady:1\n",
      "Miss:182\n",
      "Rev:6\n",
      "Major:2\n"
     ]
    }
   ],
   "source": [
    "# 敬称の数を数える\n",
    "title_list = df_train['Name'].map(lambda x: x.split(', ')[1].split('. ')[0]).to_list()\n",
    "\n",
    "for title in set(title_list):\n",
    "    count = title_list.count(title)\n",
    "    print(str(title) + \":\" + str(count))\n"
   ]
  },
  {
   "cell_type": "markdown",
   "metadata": {},
   "source": [
    "* 少数のものをまとめる\n",
    "* 同意のものをまとめる\n"
   ]
  },
  {
   "cell_type": "code",
   "execution_count": null,
   "metadata": {},
   "outputs": [
    {
     "data": {
      "text/plain": [
       "<Axes: xlabel='Title', ylabel='Survived'>"
      ]
     },
     "execution_count": 34,
     "metadata": {},
     "output_type": "execute_result"
    },
    {
     "data": {
      "image/png": "[encoded data removed]",
      "text/plain": [
       "<Figure size 640x480 with 1 Axes>"
      ]
     },
     "metadata": {},
     "output_type": "display_data"
    }
   ],
   "source": [
    "# 敬称の分析\n",
    "df_train['Title'] = df_train['Name'].map(lambda x: x.split(', ')[1].split('. ')[0])\n",
    "# 同意のものをまとめる\n",
    "df_train['Title'].replace(['Capt', 'Col', 'Major', 'Dr', 'Rev'], 'Officer', inplace=True)\n",
    "df_train['Title'].replace(['Don', 'Sir',  'the Countess', 'Lady', 'Dona'], 'Royalty', inplace=True)\n",
    "df_train['Title'].replace(['Mme', 'Ms'], 'Mrs', inplace=True)\n",
    "df_train['Title'].replace(['Mlle'], 'Miss', inplace=True)\n",
    "df_train['Title'].replace(['Jonkheer'], 'Master', inplace=True)\n",
    "# データ表示\n",
    "sns.barplot(x='Title', y='Survived', data=df_train, palette='Set3')"
   ]
  },
  {
   "cell_type": "markdown",
   "metadata": {},
   "source": [
    "* 同じ苗字の人をまとめる"
   ]
  },
  {
   "cell_type": "code",
   "execution_count": null,
   "metadata": {},
   "outputs": [],
   "source": [
    "# ------------ Surname ------------\n",
    "# NameからSurname(苗字)を抽出\n",
    "df_train['Surname'] = df_train['Name'].map(lambda name:name.split(',')[0].strip())\n",
    "\n",
    "# 同じSurname(苗字)の出現頻度をカウント(出現回数が2以上なら家族)\n",
    "df_train['FamilyGroup'] = df_train['Surname'].map(df_train['Surname'].value_counts()) "
   ]
  },
  {
   "cell_type": "markdown",
   "metadata": {},
   "source": [
    "* さらに女子供と男のグループに分ける"
   ]
  },
  {
   "cell_type": "code",
   "execution_count": null,
   "metadata": {},
   "outputs": [
    {
     "name": "stdout",
     "output_type": "stream",
     "text": [
      "Survived\n",
      "1.000000    77\n",
      "0.000000    27\n",
      "0.750000     2\n",
      "0.500000     1\n",
      "0.333333     1\n",
      "0.142857     1\n",
      "Name: count, dtype: int64\n"
     ]
    }
   ],
   "source": [
    "# 家族で16才以下または女性の生存率\n",
    "Female_Child_Group = df_train.loc[(df_train['FamilyGroup']>=2) & ((df_train['Age']<=16) | (df_train['Sex']=='female'))]\n",
    "Female_Child_Group = Female_Child_Group.groupby('Surname')['Survived'].mean()\n",
    "print(Female_Child_Group.value_counts())"
   ]
  },
  {
   "cell_type": "code",
   "execution_count": null,
   "metadata": {},
   "outputs": [
    {
     "name": "stdout",
     "output_type": "stream",
     "text": [
      "Survived\n",
      "0.000000    70\n",
      "1.000000    14\n",
      "0.500000     4\n",
      "0.333333     1\n",
      "Name: count, dtype: int64\n"
     ]
    }
   ],
   "source": [
    "# 家族で16才超えかつ男性の生存率\n",
    "Male_Adult_Group=df_train.loc[(df_train['FamilyGroup']>=2) & (df_train['Age']>16) & (df_train['Sex']=='male')]\n",
    "Male_Adult_List=Male_Adult_Group.groupby('Surname')['Survived'].mean()\n",
    "print(Male_Adult_List.value_counts())"
   ]
  },
  {
   "cell_type": "markdown",
   "metadata": {},
   "source": [
    "* 生存率１００と０の極端なグループ分けができた"
   ]
  },
  {
   "cell_type": "code",
   "execution_count": null,
   "metadata": {},
   "outputs": [
    {
     "name": "stdout",
     "output_type": "stream",
     "text": [
      "Dead_list =  {'Rice', 'Lefebre', 'Ford', 'Olsson', 'Arnold-Franchi', 'Sage', 'Danbom', 'Goodwin', 'Johnston', 'Barbara', 'Zabour', 'Elias', 'Jussila', 'Rosblom', 'Skoog', 'Cacic', 'Attalah', 'Oreskovic', 'Boulos', 'Van Impe', 'Lobb', 'Turpin', 'Vander Planke', 'Strom', 'Bourke', 'Panula', 'Palsson'}\n",
      "Survived_list =  {'Dick', 'Beane', 'Taylor', 'Frauenthal', 'Flynn', 'Bishop', 'Goldenberg', 'Jussila', 'Nakid', 'Beckwith', 'Hoyt', 'Duff Gordon', 'Chambers', 'Daly'}\n"
     ]
    }
   ],
   "source": [
    "# デッドリストとサバイブリストの作成\n",
    "Dead_list = set(Female_Child_Group[Female_Child_Group.apply(lambda x:x==0)].index)\n",
    "Survived_list = set(Male_Adult_List[Male_Adult_List.apply(lambda x:x==1)].index)\n",
    "\n",
    "# デッドリストとサバイブリストの表示\n",
    "print('Dead_list = ', Dead_list)\n",
    "print('Survived_list = ', Survived_list)\n",
    "\n",
    "# デッドリストとサバイブリストをSex, Age, Title に反映させる\n",
    "df_train.loc[(df_train['Survived'].isnull()) & (df_train['Surname'].apply(lambda x:x in Dead_list)),\\\n",
    "             ['Sex','Age','Title']] = ['male',28.0,'Mr']\n",
    "df_train.loc[(df_train['Survived'].isnull()) & (df_train['Surname'].apply(lambda x:x in Survived_list)),\\\n",
    "             ['Sex','Age','Title']] = ['female',5.0,'Mrs']"
   ]
  },
  {
   "cell_type": "markdown",
   "metadata": {},
   "source": [
    "# Fare\n",
    "\n",
    "* 運賃は場所とクラスが関係すると推測\n",
    "  * 欠損値の場所とクラスをチェックする\n",
    "    * Pclass:3, Embarked:S"
   ]
  },
  {
   "cell_type": "code",
   "execution_count": 19,
   "metadata": {},
   "outputs": [
    {
     "data": {
      "text/html": [
       "<div>\n",
       "<style scoped>\n",
       "    .dataframe tbody tr th:only-of-type {\n",
       "        vertical-align: middle;\n",
       "    }\n",
       "\n",
       "    .dataframe tbody tr th {\n",
       "        vertical-align: top;\n",
       "    }\n",
       "\n",
       "    .dataframe thead th {\n",
       "        text-align: right;\n",
       "    }\n",
       "</style>\n",
       "<table border=\"1\" class=\"dataframe\">\n",
       "  <thead>\n",
       "    <tr style=\"text-align: right;\">\n",
       "      <th></th>\n",
       "      <th>PassengerId</th>\n",
       "      <th>Pclass</th>\n",
       "      <th>Name</th>\n",
       "      <th>Sex</th>\n",
       "      <th>Age</th>\n",
       "      <th>SibSp</th>\n",
       "      <th>Parch</th>\n",
       "      <th>Ticket</th>\n",
       "      <th>Fare</th>\n",
       "      <th>Cabin</th>\n",
       "      <th>Embarked</th>\n",
       "      <th>Age_fillna_mean</th>\n",
       "    </tr>\n",
       "  </thead>\n",
       "  <tbody>\n",
       "    <tr>\n",
       "      <th>1043</th>\n",
       "      <td>1044</td>\n",
       "      <td>3</td>\n",
       "      <td>Storey, Mr. Thomas</td>\n",
       "      <td>male</td>\n",
       "      <td>60.5</td>\n",
       "      <td>0</td>\n",
       "      <td>0</td>\n",
       "      <td>3701</td>\n",
       "      <td>NaN</td>\n",
       "      <td>NaN</td>\n",
       "      <td>S</td>\n",
       "      <td>NaN</td>\n",
       "    </tr>\n",
       "  </tbody>\n",
       "</table>\n",
       "</div>"
      ],
      "text/plain": [
       "      PassengerId  Pclass                Name   Sex   Age  SibSp  Parch  \\\n",
       "1043         1044       3  Storey, Mr. Thomas  male  60.5      0      0   \n",
       "\n",
       "     Ticket  Fare Cabin Embarked  Age_fillna_mean  \n",
       "1043   3701   NaN   NaN        S              NaN  "
      ]
     },
     "execution_count": 19,
     "metadata": {},
     "output_type": "execute_result"
    }
   ],
   "source": [
    "df_test.loc[df_test[\"Fare\"].isnull()]"
   ]
  },
  {
   "cell_type": "markdown",
   "metadata": {},
   "source": [
    "* 欠損値を Embarked='S', Pclass=3 の平均値で補完"
   ]
  },
  {
   "cell_type": "code",
   "execution_count": 15,
   "metadata": {},
   "outputs": [
    {
     "name": "stdout",
     "output_type": "stream",
     "text": [
      "8.05\n",
      "<class 'pandas.core.series.Series'>\n",
      "Index: 418 entries, 891 to 1308\n",
      "Series name: Fare\n",
      "Non-Null Count  Dtype  \n",
      "--------------  -----  \n",
      "417 non-null    float64\n",
      "dtypes: float64(1)\n",
      "memory usage: 6.5 KB\n"
     ]
    }
   ],
   "source": [
    "# 欠損値を Embarked='S', Pclass=3 の平均値で補完\n",
    "fare = df_train.loc[(df_train['Embarked'] == 'S') & (df_train['Pclass'] == 3), 'Fare'].median()\n",
    "print(fare)\n",
    "df_train['Fare']=df_train['Fare'].fillna(fare)\n",
    "#df_train['Fare'].info()\n",
    "df_test['Fare'].info()"
   ]
  },
  {
   "cell_type": "markdown",
   "metadata": {},
   "source": [
    "# SibSp, Parch\n",
    "* 家族として特徴量にする"
   ]
  },
  {
   "cell_type": "code",
   "execution_count": 20,
   "metadata": {},
   "outputs": [],
   "source": [
    "# train_dataとtest_dataの連結\n",
    "df_test['Survived'] = np.nan\n",
    "df = pd.concat([df_train, df_test], ignore_index=True, sort=False)"
   ]
  },
  {
   "cell_type": "code",
   "execution_count": 21,
   "metadata": {},
   "outputs": [],
   "source": [
    "# ----------- Family -------------\n",
    "# Family = SibSp + Parch + 1 を特徴量とし、グルーピング\n",
    "# 2～4：生存大\n",
    "# 1, 5,6,7：中\n",
    "# 8以上:小\n",
    "\n",
    "df['Family'] = df['SibSp'] + df['Parch'] + 1\n",
    "df.loc[(df['Family']>=2) & (df['Family']<=4), 'Family_label'] = 2\n",
    "df.loc[(df['Family']>=5) & (df['Family']<=7) | (df['Family']==1), 'Family_label'] = 1  # == に注意\n",
    "df.loc[(df['Family']>=8), 'Family_label'] = 0"
   ]
  },
  {
   "cell_type": "code",
   "execution_count": 22,
   "metadata": {},
   "outputs": [
    {
     "data": {
      "text/plain": [
       "<Axes: xlabel='Family', ylabel='Survived'>"
      ]
     },
     "execution_count": 22,
     "metadata": {},
     "output_type": "execute_result"
    },
    {
     "data": {
      "image/png": "[encoded data removed]",
      "text/plain": [
       "<Figure size 640x480 with 1 Axes>"
      ]
     },
     "metadata": {},
     "output_type": "display_data"
    }
   ],
   "source": [
    "# データ表示\n",
    "sns.barplot(x='Family', y='Survived', data=df, palette='Set3')"
   ]
  },
  {
   "cell_type": "markdown",
   "metadata": {},
   "source": [
    "# Ticket\n",
    "\n",
    "* Ticket番号が同じ人数別の生存率"
   ]
  },
  {
   "cell_type": "code",
   "execution_count": 23,
   "metadata": {},
   "outputs": [
    {
     "name": "stdout",
     "output_type": "stream",
     "text": [
      "{'CA. 2343': 11, 'CA 2144': 8, '1601': 8, 'PC 17608': 7, 'S.O.C. 14879': 7, '347077': 7, '347082': 7, '3101295': 7, '19950': 6, '113781': 6, '347088': 6, '382652': 6, '4133': 5, 'W./C. 6608': 5, 'PC 17757': 5, '349909': 5, '220845': 5, '113503': 5, '16966': 5, 'LINE': 4, 'C.A. 33112': 4, 'PC 17755': 4, 'C.A. 34651': 4, '12749': 4, 'PC 17760': 4, '230136': 4, 'SC/Paris 2123': 4, 'W./C. 6607': 4, 'PC 17483': 4, '2666': 4, 'C.A. 2315': 4, '17421': 4, '113760': 4, '24160': 4, '36928': 4, 'S.C./PARIS 2079': 3, '315153': 3, '371110': 3, 'PC 17761': 3, 'PC 17558': 3, '230080': 3, '363291': 3, '248727': 3, '2668': 3, '2678': 3, 'A/5. 851': 3, 'A/4 48871': 3, '370129': 3, '35273': 3, 'PC 17756': 3, '28220': 3, '345773': 3, '347080': 3, '2653': 3, 'C.A. 31029': 3, '33638': 3, 'C.A. 37671': 3, 'F.C.C. 13529': 3, '11767': 3, 'PC 17758': 3, '367226': 3, '19877': 3, 'SOTON/O.Q. 3101315': 3, 'C.A. 2673': 3, '239853': 3, '13502': 3, 'PC 17582': 3, '110413': 3, '110152': 3, '2650': 3, '248738': 3, '26360': 3, '19928': 3, 'C 4001': 3, 'C.A. 31921': 3, '29103': 3, '29106': 3, '2662': 3, '347742': 3, '2661': 3, 'PP 9549': 3, '29750': 3, 'PC 17569': 3, 'PC 17572': 3, '364516': 2, '349237': 2, '21228': 2, '17453': 2, 'F.C.C. 13528': 2, '11813': 2, '17464': 2, '243847': 2, '347054': 2, '112378': 2, 'PC 17611': 2, '370371': 2, '111361': 2, '2699': 2, '24065': 2, '364498': 2, '113806': 2, '236853': 2, '2625': 2, 'PC 17599': 2, '113509': 2, '2926': 2, '13508': 2, '370365': 2, '364849': 2, '345572': 2, '11778': 2, '386525': 2, '244358': 2, '112058': 2, '2908': 2, 'WE/P 5735': 2, '19943': 2, '226875': 2, 'SC/PARIS 2167': 2, '230433': 2, '239865': 2, '350026': 2, 'PC 17485': 2, 'C.A. 6212': 2, 'PC 17604': 2, 'P/PP 3381': 2, '113798': 2, '250644': 2, '36947': 2, '19996': 2, 'F.C. 12750': 2, '350405': 2, '250647': 2, '31027': 2, '11967': 2, '113789': 2, '36568': 2, '13050': 2, '250651': 2, 'PC 17603': 2, '26707': 2, '345763': 2, '367230': 2, 'S.O./P.P. 2': 2, '11668': 2, 'PC 17592': 2, '250649': 2, '11751': 2, '244252': 2, '392091': 2, 'A/5. 3336': 2, '2651': 2, '345764': 2, 'PC 17585': 2, '347072': 2, '3101298': 2, '113505': 2, '113796': 2, '28664': 2, '237736': 2, '13236': 2, '228414': 2, 'A/5. 3337': 2, '17463': 2, '250655': 2, '29105': 2, 'SC/AH 29037': 2, '2003': 2, '54636': 2, 'W.E.P. 5734': 2, '17474': 2, 'S.O./P.P. 3': 2, '2627': 2, '7534': 2, '11753': 2, '2659': 2, 'PC 17759': 2, '349256': 2, '2665': 2, '110465': 2, '376566': 2, '349910': 2, '231919': 2, '244367': 2, '113803': 2, 'F.C.C. 13534': 2, '28403': 2, '35281': 2, '3101278': 2, '13567': 2, '358585': 2, 'PC 17477': 2, '2691': 2, '113773': 2, '392096': 2, '11769': 2, 'C.A. 33595': 2, '371362': 2, '13507': 2, '110813': 2, '113059': 2, '2660': 2, 'PC 17597': 2, '13695': 2, 'PC 17593': 2, '113572': 2, '2680': 2, '36973': 2, 'STON/O2. 3101279': 2, '376564': 2, '237789': 2, 'SC/AH 3085': 2, '2689': 2, '11765': 2, '113776': 2, 'CA 31352': 2, '370374': 1, '349217': 1, 'SOTON/O.Q. 3101263': 1, '112053': 1, '349257': 1, 'STON/O 2. 3101291': 1, '113028': 1, '7552': 1, 'C.A./SOTON 34068': 1, '237249': 1, 'PC 17594': 1, '348121': 1, 'SOTON/OQ 392076': 1, '7545': 1, 'PC 17482': 1, '211536': 1, '363272': 1, '113778': 1, '2657': 1, '2698': 1, 'C 17368': 1, '2696': 1, 'STON/O2. 3101270': 1, '113054': 1, '349212': 1, '2692': 1, '36864': 1, '350025': 1, '233734': 1, '694': 1, '349220': 1, '2682': 1, '345768': 1, '330972': 1, '7538': 1, '315154': 1, '342712': 1, '240276': 1, 'PC 17598': 1, '223596': 1, '330911': 1, '315087': 1, '370376': 1, 'PC 17476': 1, '111369': 1, 'PC 17475': 1, 'C.A. 5547': 1, '348124': 1, 'PC 17600': 1, '2687': 1, '113501': 1, '233639': 1, 'SOTON/O.Q. 3101312': 1, '28425': 1, '374887': 1, '3101265': 1, '12460': 1, '349203': 1, '383121': 1, '239855': 1, '28213': 1, 'STON/O2. 3101271': 1, '17465': 1, '349244': 1, '2685': 1, '36866': 1, '347089': 1, '36865': 1, '347078': 1, '2667': 1, '2663': 1, '345780': 1, '250648': 1, '349204': 1, '350042': 1, '29108': 1, 'STON/O 2. 3101288': 1, '363294': 1, 'SOTON/O2 3101272': 1, '347074': 1, '349201': 1, '112379': 1, '364850': 1, '8471': 1, '345781': 1, '350047': 1, '16988': 1, '2674': 1, '349218': 1, '347063': 1, '112050': 1, '347087': 1, '34218': 1, '349213': 1, '347060': 1, '12233': 1, '350048': 1, '347062': 1, '113055': 1, '2629': 1, '28134': 1, '17466': 1, '248723': 1, '233866': 1, '236852': 1, 'SC/PARIS 2149': 1, 'PC 17590': 1, '345777': 1, '349248': 1, '695': 1, '345765': 1, '335097': 1, '250643': 1, '315090': 1, '2683': 1, 'SC/PARIS 2168': 1, '28206': 1, '364499': 1, 'STON/O2. 3101290': 1, '315094': 1, 'C 7075': 1, '315098': 1, '19972': 1, '368323': 1, '367228': 1, '2671': 1, '347468': 1, '2223': 1, '315097': 1, '392092': 1, '11774': 1, 'SOTON/O2 3101287': 1, '3474': 1, 'A/5 21171': 1, 'SC/A.3 2861': 1, '349202': 1, '315085': 1, '364859': 1, 'A/5 21175': 1, 'SOTON/O.Q. 3101314': 1, '2655': 1, 'A/5 1478': 1, 'PC 17607': 1, '382650': 1, '2652': 1, '345771': 1, '113801': 1, 'SC 14888': 1, '347467': 1, '347079': 1, '237735': 1, '315092': 1, '383123': 1, '112901': 1, '315091': 1, '2658': 1, 'LP 1588': 1, '368364': 1, 'W./C. 14260': 1, '2676': 1, '242963': 1, 'C.A. 42795': 1, '3101266': 1, '330971': 1, '350416': 1, '2679': 1, '250650': 1, '112377': 1, '3470': 1, 'SOTON/O2 3101284': 1, '7266': 1, '345775': 1, 'AQ/4 3130': 1, '368573': 1, '363611': 1, '28404': 1, '345501': 1, '350410': 1, 'C.A. 34644': 1, '349235': 1, '112051': 1, 'C.A. 49867': 1, 'A. 2. 39186': 1, '315095': 1, 'AQ/3. 30631': 1, '28004': 1, '350408': 1, 'C.A. 30769': 1, '248746': 1, '315152': 1, '29107': 1, '680': 1, '366713': 1, '330910': 1, 'SC/PARIS 2159': 1, '349911': 1, '244346': 1, '364858': 1, '371109': 1, '347075': 1, '347065': 1, '21332': 1, '17765': 1, 'SC/PARIS 2166': 1, '28666': 1, '334915': 1, '365237': 1, '347086': 1, 'A.5. 3236': 1, 'SOTON/O.Q. 3101262': 1, '28133': 1, 'SC/PARIS 2147': 1, '315083': 1, '368402': 1, '2654': 1, '244368': 1, '113790': 1, 'SOTON/O.Q. 3101309': 1, '236854': 1, 'PC 17580': 1, '2684': 1, '349229': 1, '110469': 1, '244360': 1, '2675': 1, '2622': 1, 'C.A. 15185': 1, '350403': 1, '348125': 1, '237670': 1, '2688': 1, '248726': 1, 'F.C.C. 13540': 1, '113044': 1, '1222': 1, '113795': 1, '370368': 1, '349230': 1, 'PC 17531': 1, '347471': 1, 'A./5. 3338': 1, '365235': 1, '347070': 1, '330920': 1, '383162': 1, '3410': 1, '248734': 1, '237734': 1, '330968': 1, '329944': 1, '350033': 1, '2681': 1, '367227': 1, '392095': 1, '368783': 1, '350045': 1, '211535': 1, '363592': 1, '342441': 1, 'STON/OQ. 369943': 1, '113780': 1, 'STON/O 2. 3101268': 1, '13905': 1, '350054': 1, 'PC 17562': 1, '348122': 1, '349232': 1, '237216': 1, '347090': 1, '334914': 1, '330963': 1, '2543': 1, '382653': 1, '349211': 1, '3101297': 1, '359306': 1, '376563': 1, '11770': 1, '248744': 1, '368702': 1, '19924': 1, '349238': 1, '240261': 1, '330844': 1, 'A/4 31416': 1, '364856': 1, '345498': 1, '2621': 1, '349226': 1, '350409': 1, 'PC 17613': 1, '111163': 1, '235509': 1, '347465': 1, '347066': 1, 'C.A. 31030': 1, '65305': 1, 'C.A. 34050': 1, 'F.C. 12998': 1, '9232': 1, '28034': 1, '349250': 1, '2656': 1, 'SOTON/O.Q. 3101308': 1, '347091': 1, '113038': 1, '330924': 1, '32302': 1, 'SC/PARIS 2148': 1, '342684': 1, 'W./C. 14266': 1, '350053': 1, 'PC 17606': 1, '28221': 1, 'A/4 48873': 1, '239059': 1, '7935': 1, '248659': 1, 'SOTON/OQ 392083': 1, '17475': 1, 'SC/A4 23568': 1, '113791': 1, '349255': 1, '3701': 1, 'S.O./P.P. 752': 1, '347469': 1, '110489': 1, '335432': 1, '220844': 1, '343271': 1, '237393': 1, 'PC 17591': 1, '17770': 1, '7548': 1, 'S.O./P.P. 251': 1, '2670': 1, '2673': 1, '233478': 1, '35852': 1, '218629': 1, '248731': 1, '237442': 1, 'SOTON/OQ 392089': 1, '220367': 1, '21440': 1, '349234': 1, 'PP 4348': 1, 'SW/PP 751': 1, 'A/5 21173': 1, '236171': 1, '347067': 1, 'C.A. 29566': 1, '112059': 1, 'W./C. 6609': 1, '28665': 1, 'SCO/W 1585': 1, 'W./C. 14263': 1, 'STON/O 2. 3101275': 1, '2694': 1, '347071': 1, '362316': 1, '113514': 1, 'W/C 14208': 1, 'STON/O2. 3101283': 1, '367229': 1, '250646': 1, '113767': 1, '111428': 1, '349247': 1, '234604': 1, '28424': 1, '350046': 1, 'PC 17610': 1, '368703': 1, '4579': 1, '370370': 1, '248747': 1, '345770': 1, '3101264': 1, '2628': 1, 'A/5 3540': 1, '367231': 1, '112277': 1, 'SOTON/O.Q. 3101311': 1, 'A/5 21174': 1, '384461': 1, '382649': 1, '2647': 1, '349225': 1, '349243': 1, '347470': 1, '29011': 1, 'A/5 21172': 1, '349219': 1, '234818': 1, '345364': 1, '28551': 1, '113043': 1, '7598': 1, 'C.A. 17248': 1, '113784': 1, '248740': 1, '244361': 1, '229236': 1, '248733': 1, '31418': 1, '315088': 1, '7267': 1, '113510': 1, 'A/5 2466': 1, '226593': 1, '9234': 1, '19988': 1, '347083': 1, 'PC 17596': 1, '370375': 1, '347073': 1, '336439': 1, '347464': 1, '345778': 1, 'A/5. 10482': 1, '113056': 1, '349239': 1, '345774': 1, '349206': 1, '237798': 1, '370373': 1, 'SC/Paris 2163': 1, '349236': 1, '349233': 1, 'PC 17612': 1, '2693': 1, 'SC/PARIS 2131': 1, '250653': 1, 'PC 17595': 1, 'S.P. 3464': 1, 'S.C./A.4. 23567': 1, '14311': 1, 'A/4. 39886': 1, '19947': 1, 'C.A. 31026': 1, '2697': 1, '2669': 1, 'PC 17605': 1, 'C.A. 29395': 1, '3101281': 1, '350404': 1, '315151': 1, 'C.A. 33111': 1, '348123': 1, '349208': 1, '374746': 1, '345767': 1, '345779': 1, '330932': 1, 'SO/C 14885': 1, '330958': 1, '349253': 1, '7546': 1, 'A./5. 2152': 1, 'STON/O2. 3101282': 1, '373450': 1, '330877': 1, '113783': 1, 'A/5. 2151': 1, '350406': 1, '248706': 1, '244373': 1, '2649': 1, '248698': 1, '330923': 1, '113788': 1, '2631': 1, '330959': 1, '349216': 1, 'PC 17601': 1, '335677': 1, 'C.A. 24579': 1, '2677': 1, 'SOTON/OQ 392086': 1, '343275': 1, '343276': 1, 'SOTON/O.Q. 3101307': 1, 'SC/PARIS 2133': 1, '11752': 1, '347081': 1, '365222': 1, '231945': 1, '350043': 1, '244310': 1, 'S.O.P. 1166': 1, 'A.5. 11206': 1, 'Fa 265302': 1, '35851': 1, 'SOTON/OQ 392090': 1, '315037': 1, '347068': 1, '315093': 1, 'PC 17318': 1, '111240': 1, 'STON/O 2. 3101280': 1, '17764': 1, 'C.A. 29178': 1, '349241': 1, '347466': 1, '347061': 1, '364500': 1, '374910': 1, 'PC 17754': 1, '349245': 1, '349215': 1, '7540': 1, '3101276': 1, '349207': 1, '343120': 1, '312991': 1, '349249': 1, '324669': 1, '4136': 1, 'STON/O 2. 3101294': 1, '370369': 1, 'A4. 54510': 1, '27267': 1, '370372': 1, 'C 17369': 1, '2695': 1, '345783': 1, '113800': 1, '13049': 1, '349205': 1, '2686': 1, '350417': 1, 'S.W./PP 752': 1, 'PC 17474': 1, '14312': 1, 'A/4. 20589': 1, '243880': 1, 'STON/O 2. 3101286': 1, '3411': 1, '349246': 1, '237565': 1, '14973': 1, 'A./5. 3235': 1, 'STON/O 2. 3101273': 1, 'A/5 3902': 1, '364848': 1, '2664': 1, '349214': 1, '364511': 1, 'SOTON/O.Q. 392087': 1, 'SOTON/OQ 392082': 1, '349251': 1, '372622': 1, '349252': 1, '2624': 1, '2700': 1, '367232': 1, 'W./C. 14258': 1, '3101296': 1, '29104': 1, '2641': 1, '2690': 1, '315084': 1, '113050': 1, '13568': 1, '693': 1, 'SC/PARIS 2146': 1, '330979': 1, '2620': 1, '347085': 1, '113807': 1, '11755': 1, '111426': 1, '113804': 1, '237671': 1, 'C.A. 24580': 1, '349223': 1, '29751': 1, '2623': 1, '5727': 1, '349210': 1, 'STON/O 2. 3101285': 1, '234686': 1, '312993': 1, 'A/5 3536': 1, '244270': 1, 'SOTON/O.Q. 3101305': 1, '239856': 1, '349912': 1, '342826': 1, '4138': 1, '330935': 1, '6563': 1, '349228': 1, '350036': 1, '2672': 1, '365226': 1, '330919': 1, '8475': 1, '349221': 1, '370377': 1, '364512': 1, '31028': 1, '350029': 1, '36963': 1, '219533': 1, '349224': 1, '334912': 1, '27042': 1, '347743': 1, '13214': 1, '112052': 1, '237668': 1, 'STON/O 2. 3101292': 1, '350050': 1, '349231': 1, '13213': 1, 'S.O./P.P. 751': 1, 'CA. 2314': 1, '349242': 1, 'C.A. 34260': 1, '36967': 1, '250652': 1, '341826': 1, '4137': 1, '315096': 1, '347064': 1, '312992': 1, '349222': 1, '394140': 1, 'STON/O 2. 3101269': 1, '343095': 1, '28228': 1, '349209': 1, '349254': 1, 'A/5. 13032': 1, '315082': 1, 'A/4. 34244': 1, '364851': 1, 'SOTON/O.Q. 392078': 1, '110564': 1, 'STON/O 2. 3101274': 1, 'C.A. 18723': 1, 'STON/O 2. 3101289': 1, '240929': 1, '244278': 1, '350407': 1, '330931': 1, '330980': 1, 'SOTON/O.Q. 3101310': 1, 'C 7076': 1, '2626': 1, '14313': 1, '3101267': 1, '323951': 1, 'C 7077': 1, '2648': 1, '347069': 1, 'STON/O 2. 3101293': 1, '349227': 1, '27849': 1, '367655': 1, 'SC 1748': 1, '350034': 1, '3101277': 1, '350052': 1, '345769': 1, '347076': 1, '230434': 1, '3460': 1, '239854': 1, 'A/5 3594': 1, '4134': 1, '11771': 1, 'A.5. 18509': 1, '65304': 1, 'SOTON/OQ 3101317': 1, '113787': 1, 'PC 17609': 1, 'A/4 45380': 1, '350035': 1, '315086': 1, '364846': 1, '330909': 1, '4135': 1, '111427': 1, '382651': 1, 'SOTON/OQ 3101316': 1, 'PC 17473': 1, '350060': 1, '7553': 1, '65306': 1, 'SC/AH Basle 541': 1, '113794': 1, '113786': 1, '65303': 1, '113051': 1, 'A/5 2817': 1, '349240': 1, '13509': 1, 'F.C.C. 13531': 1, '371060': 1, '19952': 1, '364506': 1, '111320': 1, '234360': 1, 'A/S 2816': 1, 'SOTON/O.Q. 3101306': 1, '113792': 1, '36209': 1, '323592': 1, '315089': 1, '359309': 1}\n"
     ]
    },
    {
     "data": {
      "image/png": "[encoded data removed]",
      "text/plain": [
       "<Figure size 640x480 with 1 Axes>"
      ]
     },
     "metadata": {},
     "output_type": "display_data"
    }
   ],
   "source": [
    "# 同一Ticketナンバーの人が何人いるかを特徴量として抽出\n",
    "Ticket_Count = dict(df['Ticket'].value_counts())\n",
    "\n",
    "print(Ticket_Count)\n",
    "\n",
    "df['TicketGroup'] = df['Ticket'].map(Ticket_Count)\n",
    "sns.barplot(x='TicketGroup', y='Survived', data=df, palette='Set3')\n",
    "plt.show()"
   ]
  },
  {
   "cell_type": "markdown",
   "metadata": {},
   "source": [
    "* 2〜4人の生存率が高\n",
    "* 5〜8人と1人の生存率が中位\n",
    "* 11人の生存率はゼロ\n",
    "* 従って、3つにグルーピングします。"
   ]
  },
  {
   "cell_type": "code",
   "execution_count": 24,
   "metadata": {},
   "outputs": [
    {
     "data": {
      "image/png": "[encoded data removed]",
      "text/plain": [
       "<Figure size 640x480 with 1 Axes>"
      ]
     },
     "metadata": {},
     "output_type": "display_data"
    }
   ],
   "source": [
    "# 生存率で3つにグルーピング\n",
    "df.loc[(df['TicketGroup']>=2) & (df['TicketGroup']<=4), 'Ticket_label'] = 2\n",
    "df.loc[(df['TicketGroup']>=5) & (df['TicketGroup']<=8) | (df['TicketGroup']==1), 'Ticket_label'] = 1  \n",
    "df.loc[(df['TicketGroup']>=11), 'Ticket_label'] = 0\n",
    "sns.barplot(x='Ticket_label', y='Survived', data=df, palette='Set3')\n",
    "plt.show()"
   ]
  },
  {
   "cell_type": "markdown",
   "metadata": {},
   "source": [
    "# Cabin"
   ]
  },
  {
   "cell_type": "code",
   "execution_count": 27,
   "metadata": {},
   "outputs": [
    {
     "name": "stdout",
     "output_type": "stream",
     "text": [
      "<class 'pandas.core.series.Series'>\n",
      "RangeIndex: 1309 entries, 0 to 1308\n",
      "Series name: Cabin\n",
      "Non-Null Count  Dtype \n",
      "--------------  ----- \n",
      "295 non-null    object\n",
      "dtypes: object(1)\n",
      "memory usage: 10.4+ KB\n"
     ]
    }
   ],
   "source": [
    "df[\"Cabin\"].info()"
   ]
  },
  {
   "cell_type": "markdown",
   "metadata": {},
   "source": [
    "* パターンごとの生存率を見る\n",
    "* 欠損値は Unknownとする。補間はしない"
   ]
  },
  {
   "cell_type": "code",
   "execution_count": 28,
   "metadata": {},
   "outputs": [
    {
     "data": {
      "image/png": "[encoded data removed]",
      "text/plain": [
       "<Figure size 640x480 with 1 Axes>"
      ]
     },
     "metadata": {},
     "output_type": "display_data"
    }
   ],
   "source": [
    "# ------------- Cabin ----------------\n",
    "# Cabinの先頭文字を特徴量とする(欠損値は U )\n",
    "df['Cabin'] = df['Cabin'].fillna('Unknown')\n",
    "df['Cabin_label']=df['Cabin'].str.get(0)\n",
    "sns.barplot(x='Cabin_label', y='Survived', data=df, palette='Set3')\n",
    "plt.show()"
   ]
  },
  {
   "cell_type": "markdown",
   "metadata": {},
   "source": [
    "# Embarked"
   ]
  },
  {
   "cell_type": "code",
   "execution_count": 33,
   "metadata": {},
   "outputs": [
    {
     "data": {
      "text/plain": [
       "2"
      ]
     },
     "execution_count": 33,
     "metadata": {},
     "output_type": "execute_result"
    }
   ],
   "source": [
    "# 欠損値の数\n",
    "df[\"Embarked\"].isnull().values.sum()"
   ]
  },
  {
   "cell_type": "code",
   "execution_count": 34,
   "metadata": {},
   "outputs": [
    {
     "data": {
      "text/plain": [
       "Embarked\n",
       "S    914\n",
       "C    270\n",
       "Q    123\n",
       "Name: count, dtype: int64"
      ]
     },
     "execution_count": 34,
     "metadata": {},
     "output_type": "execute_result"
    }
   ],
   "source": [
    "# 要素ごとのカウント\n",
    "df[\"Embarked\"].value_counts()"
   ]
  },
  {
   "cell_type": "code",
   "execution_count": 35,
   "metadata": {},
   "outputs": [
    {
     "data": {
      "text/plain": [
       "<Axes: xlabel='Embarked', ylabel='Survived'>"
      ]
     },
     "execution_count": 35,
     "metadata": {},
     "output_type": "execute_result"
    },
    {
     "data": {
      "image/png": "[encoded data removed]",
      "text/plain": [
       "<Figure size 640x480 with 1 Axes>"
      ]
     },
     "metadata": {},
     "output_type": "display_data"
    }
   ],
   "source": [
    "# 要素ごとの生存率\n",
    "sns.barplot(x='Embarked', y='Survived', data=df, palette='Set3')"
   ]
  },
  {
   "cell_type": "code",
   "execution_count": null,
   "metadata": {},
   "outputs": [],
   "source": [
    "# 欠損値は一番乗船者が多かったSで補完\n",
    "df['Embarked'] = df['Embarked'].fillna('S') "
   ]
  }
 ],
 "metadata": {
  "kernelspec": {
   "display_name": "base",
   "language": "python",
   "name": "python3"
  },
  "language_info": {
   "codemirror_mode": {
    "name": "ipython",
    "version": 3
   },
   "file_extension": ".py",
   "mimetype": "text/x-python",
   "name": "python",
   "nbconvert_exporter": "python",
   "pygments_lexer": "ipython3",
   "version": "3.11.5"
  }
 },
 "nbformat": 4,
 "nbformat_minor": 2
}
